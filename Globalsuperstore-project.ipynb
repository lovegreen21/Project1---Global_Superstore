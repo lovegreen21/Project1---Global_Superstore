{
 "cells": [
  {
   "cell_type": "code",
   "execution_count": 1,
   "id": "8c826c11",
   "metadata": {},
   "outputs": [],
   "source": [
    "import pandas as pd\n",
    "import numpy as np\n",
    "import matplotlib.pyplot as plt\n",
    "from datetime import datetime\n",
    "import datetime as dt\n",
    "import seaborn as sns\n",
    "import ipywidgets as widgets\n",
    "import plotly.express as px"
   ]
  },
  {
   "cell_type": "code",
   "execution_count": 2,
   "id": "077c7d04",
   "metadata": {},
   "outputs": [
    {
     "name": "stdout",
     "output_type": "stream",
     "text": [
      "<class 'pandas.core.frame.DataFrame'>\n",
      "RangeIndex: 51290 entries, 0 to 51289\n",
      "Data columns (total 22 columns):\n",
      " #   Column          Non-Null Count  Dtype         \n",
      "---  ------          --------------  -----         \n",
      " 0   Order ID        51290 non-null  object        \n",
      " 1   Order Date      51290 non-null  datetime64[ns]\n",
      " 2   Ship Date       51290 non-null  datetime64[ns]\n",
      " 3   Ship Mode       51290 non-null  object        \n",
      " 4   Customer ID     51290 non-null  object        \n",
      " 5   Customer Name   51290 non-null  object        \n",
      " 6   Segment         51290 non-null  object        \n",
      " 7   City            51290 non-null  object        \n",
      " 8   State           51290 non-null  object        \n",
      " 9   Country         51290 non-null  object        \n",
      " 10  Region          51290 non-null  object        \n",
      " 11  Market          51290 non-null  object        \n",
      " 12  Product ID      51290 non-null  object        \n",
      " 13  Product Name    51290 non-null  object        \n",
      " 14  Sub-Category    51290 non-null  object        \n",
      " 15  Category        51290 non-null  object        \n",
      " 16  Sales           51290 non-null  float64       \n",
      " 17  Quantity        51290 non-null  int64         \n",
      " 18  Discount        51290 non-null  float64       \n",
      " 19  Profit          51290 non-null  float64       \n",
      " 20  Shipping Cost   51290 non-null  float64       \n",
      " 21  Order Priority  51290 non-null  object        \n",
      "dtypes: datetime64[ns](2), float64(4), int64(1), object(15)\n",
      "memory usage: 8.6+ MB\n"
     ]
    }
   ],
   "source": [
    "# Read file excel by pandas\n",
    "df=pd.read_excel(\"C:/Users/Admin/Downloads/Global_Superstore.xls\")\n",
    "# Drop'Row ID', 'Postal Code'\n",
    "df.drop(columns=['Row ID', 'Postal Code'], inplace=True)\n",
    "# Check NaN   \n",
    "df.info()"
   ]
  },
  {
   "cell_type": "code",
   "execution_count": null,
   "id": "1b1a591e",
   "metadata": {},
   "outputs": [],
   "source": [
    "df"
   ]
  },
  {
   "cell_type": "markdown",
   "id": "43084f12",
   "metadata": {},
   "source": [
    "## Define the trend line of business\n"
   ]
  },
  {
   "cell_type": "code",
   "execution_count": null,
   "id": "c40b0cfd",
   "metadata": {},
   "outputs": [],
   "source": [
    "#Add Month column\n",
    "df[\"Month\"]=df[\"Order Date\"].dt.month.astype(np.uint8)\n",
    "#Add Year column\n",
    "df[\"Year\"]=df[\"Order Date\"].dt.year.astype(int)"
   ]
  },
  {
   "cell_type": "code",
   "execution_count": null,
   "id": "1ee975fa",
   "metadata": {},
   "outputs": [],
   "source": [
    "#Creating a DataFrame that show number of orders by 2014,2015,2016,2017\n",
    "month_2014=pd.DataFrame(df[df[\"Year\"]==2014].groupby(\"Month\").count()[\"Sales\"])\n",
    "month_2015=pd.DataFrame(df[df[\"Year\"]==2015].groupby(\"Month\").count()[\"Sales\"])\n",
    "month_2016=pd.DataFrame(df[df[\"Year\"]==2016].groupby(\"Month\").count()[\"Sales\"])\n",
    "month_2017=pd.DataFrame(df[df[\"Year\"]==2017].groupby(\"Month\").count()[\"Sales\"])\n",
    "\n",
    "#concat  DataFrame and change name\n",
    "month_4=pd.concat([month_2014,month_2015,month_2016,month_2017],axis=1)\n",
    "month_4.columns=[\"201\" + str(i) for i in range(4,8)]\n",
    "month_4"
   ]
  },
  {
   "cell_type": "code",
   "execution_count": null,
   "id": "be699a69",
   "metadata": {},
   "outputs": [],
   "source": [
    "# Line chart\n",
    "ax=month_4.plot.line(marker=\"o\",markersize=1.5)\n",
    "ax.set_xticks(range(1,13),[ str(i) for i in month_4.index.values],rotation=0)\n",
    "ax.set_xlabel(\"Month\",fontweight=\"bold\",color=\"coral\")\n",
    "ax.set_title(\"Number of orders by month in 4 years\",fontweight=\"bold\",color=\"darkcyan\")\n",
    "ax.set_ylabel(\"Number of order\",fontweight=\"bold\",color=\"coral\")\n",
    "plt.show()"
   ]
  },
  {
   "cell_type": "markdown",
   "id": "63a2d27c",
   "metadata": {},
   "source": [
    "## Do shipping cost and shipping time affect number of orders?\n"
   ]
  },
  {
   "cell_type": "markdown",
   "id": "1c482661",
   "metadata": {},
   "source": [
    "### Shipping cost factor?\n"
   ]
  },
  {
   "cell_type": "code",
   "execution_count": null,
   "id": "64724c1e",
   "metadata": {},
   "outputs": [],
   "source": [
    "# Shippingcost mean per year \n",
    "shippingcost_yearly=df[[\"Shipping Cost\",\"Year\"]].groupby([\"Year\"]).mean().reset_index()\n",
    "shippingcost_yearly"
   ]
  },
  {
   "cell_type": "code",
   "execution_count": null,
   "id": "d4e956ed",
   "metadata": {},
   "outputs": [],
   "source": [
    "# Number of orders per year\n",
    "order_yearly=df[[\"Year\",\"Sales\"]].groupby(\"Year\").count().reset_index()\n",
    "order_yearly"
   ]
  },
  {
   "cell_type": "code",
   "execution_count": null,
   "id": "14d8d726",
   "metadata": {},
   "outputs": [],
   "source": [
    "# Bar chart  \n",
    "ax1=order_yearly.plot.bar(y=\"Sales\",width=0.4,legend=None,color=\"indianred\",edgecolor=\"black\",linewidth=1)\n",
    "ax1.set_xticklabels(order_yearly[\"Year\"],fontweight=\"bold\",color=\"seagreen\",rotation=0)\n",
    "ax1.set_xlabel(\"Year\",fontweight=\"bold\",fontsize=10)\n",
    "ax1.set_ylabel(\"Number of orders\",fontweight=\"bold\",fontsize=10,labelpad=12)\n",
    "ax1.legend(labels=[\"Number of orders\"],frameon=False,loc=\"upper center\")\n",
    "ax1.set_title(\"The number of orders and The mean shipping cost\",fontweight=\"bold\",pad=20, color='darkcyan')\n",
    "\n",
    "# twinx() \n",
    "ax2=ax1.twinx()\n",
    "shippingcost_yearly.plot.line(ax=ax2, y=\"Shipping Cost\", color='blue', linewidth=2,marker=\"o\")\n",
    "ax2.set_ylabel('The shipping cost mean (USD)', labelpad=12, fontsize=10, fontweight='bold')\n",
    "ax2.legend(labels=['The shipping cost'],loc=(0.33,0.8),frameon=False)\n",
    "plt.show()\n",
    "plt.close(\"all\")\n"
   ]
  },
  {
   "cell_type": "markdown",
   "id": "120d951c",
   "metadata": {},
   "source": [
    "## Delivery time factor?"
   ]
  },
  {
   "cell_type": "code",
   "execution_count": null,
   "id": "de1a6f5e",
   "metadata": {
    "scrolled": true
   },
   "outputs": [],
   "source": [
    "# Add Delivery_Date = ship date - order date\n",
    "df[\"Delivery_date\"]=df[\"Ship Date\"]-df[\"Order Date\"]\n",
    "# Convert to type: int \n",
    "df[\"Delivery_date\"]=df[\"Delivery_date\"].dt.days.astype(np.uint8)\n",
    "df[\"Delivery_date\"]"
   ]
  },
  {
   "cell_type": "code",
   "execution_count": null,
   "id": "fde701ed",
   "metadata": {},
   "outputs": [],
   "source": [
    "#groupby year & calculate mean() per year\n",
    "shippingtime_yearly=df.groupby(\"Year\").mean()[\"Delivery_date\"].reset_index()\n",
    "shippingtime_yearly"
   ]
  },
  {
   "cell_type": "code",
   "execution_count": null,
   "id": "da2224c6",
   "metadata": {},
   "outputs": [],
   "source": [
    "#Bar chart\n",
    "ax1=order_yearly.plot.bar(y=\"Sales\",width=0.4,legend=None,color=\"indianred\",edgecolor=\"black\",linewidth=1)\n",
    "ax1.set_xticklabels(order_yearly[\"Year\"],fontweight=\"bold\",color=\"seagreen\",rotation=0)\n",
    "ax1.set_xlabel(\"Year\",fontweight=\"bold\",fontsize=10)\n",
    "ax1.set_ylabel(\"Number of orders\",fontweight=\"bold\",fontsize=10,labelpad=12)\n",
    "ax1.legend(labels=[\"Number of orders\"],frameon=False,loc=\"upper left\")\n",
    "ax1.set_title(\"The number of orders and The mean Delivery time\",fontweight=\"bold\",pad=20, color='darkcyan')\n",
    "\n",
    "#twinx\n",
    "ax3=ax1.twinx()\n",
    "shippingtime_yearly.plot.line(ax=ax3, y=[\"Delivery_date\"], color='goldenrod', linewidth=2,marker=\"o\")\n",
    "ax3.set_ylabel('The mean Delivery time (days)', labelpad=12, fontsize=10, fontweight='bold')\n",
    "ax3.legend(labels=['Delivery time'],loc=(0.01,0.8),frameon=False)\n",
    "plt.show()"
   ]
  },
  {
   "cell_type": "markdown",
   "id": "ab195cac",
   "metadata": {},
   "source": [
    "## What are the most common ship modes"
   ]
  },
  {
   "cell_type": "code",
   "execution_count": null,
   "id": "8e843f0e",
   "metadata": {},
   "outputs": [],
   "source": [
    "#value_counts ship_mode\n",
    "ship_mode=df[\"Ship Mode\"].value_counts()\n",
    "ship_mode"
   ]
  },
  {
   "cell_type": "code",
   "execution_count": null,
   "id": "11b75aa7",
   "metadata": {},
   "outputs": [],
   "source": [
    "# donut chart\n",
    "colors=[\"crimson\",\"deepskyblue\",\"seagreen\",\"gold\"]\n",
    "fig, ax4 = plt.subplots(figsize=(7,5), num=1)\n",
    "ax4.pie(ship_mode,wedgeprops={\"width\":0.5},startangle=90,labels=None, autopct='%.1f%%',pctdistance=0.75,colors=colors)\n",
    "ax4.set_title(\"% Ship mode\",fontweight=\"bold\",color=\"darkcyan\")\n",
    "ax4.legend(labels=ship_mode.index,loc=\"center\",fontsize=8.2,frameon=False)\n",
    "plt.show()"
   ]
  },
  {
   "cell_type": "markdown",
   "id": "2185f558",
   "metadata": {},
   "source": [
    "## What are the most category?"
   ]
  },
  {
   "cell_type": "markdown",
   "id": "408df3e8",
   "metadata": {},
   "source": [
    "### What are the top categories? "
   ]
  },
  {
   "cell_type": "code",
   "execution_count": null,
   "id": "eb65f4ba",
   "metadata": {},
   "outputs": [],
   "source": [
    "#seaborn\n",
    "sns.countplot(x=df[\"Category\"],edgecolor=\"k\",linewidth=0.5,palette=\"Set2\")\n",
    "plt.show()"
   ]
  },
  {
   "cell_type": "markdown",
   "id": "b071fd62",
   "metadata": {},
   "source": [
    "### Which segment ordered the most?"
   ]
  },
  {
   "cell_type": "code",
   "execution_count": null,
   "id": "59e684b8",
   "metadata": {},
   "outputs": [],
   "source": [
    "ax2=sns.countplot(x=df[\"Category\"], hue=df[\"Segment\"],palette=\"Set1\",edgecolor=\"k\")\n",
    "# for in container \n",
    "for container in ax.containers:\n",
    "    ax.bar_label(container, label_type='center',color=\"seashell\",fontweight=\"bold\",fontsize=8)\n",
    "plt.show()"
   ]
  },
  {
   "cell_type": "markdown",
   "id": "5569fccd",
   "metadata": {},
   "source": [
    "### Comparing Total order, Total sales, Total profit  by category"
   ]
  },
  {
   "cell_type": "code",
   "execution_count": null,
   "id": "358948ee",
   "metadata": {},
   "outputs": [],
   "source": [
    "Sales_profit_Quantity=df[[\"Category\",\"Sales\",\"Profit\",\"Quantity\"]].groupby(\"Category\").sum().reset_index()\n",
    "Sales_profit_Quantity.plot.bar(x=\"Category\",y=[\"Sales\",\"Profit\",\"Quantity\"])"
   ]
  },
  {
   "cell_type": "markdown",
   "id": "7618fc29",
   "metadata": {},
   "source": [
    "### Comparing Discount Sales"
   ]
  },
  {
   "cell_type": "code",
   "execution_count": null,
   "id": "cc512006",
   "metadata": {},
   "outputs": [],
   "source": [
    "sns.scatterplot(data=df, \n",
    "                y='Discount', x='Sales',hue=\"Category\"\n",
    "               )\n",
    "plt.show()\n"
   ]
  },
  {
   "cell_type": "code",
   "execution_count": null,
   "id": "28c7dc8a",
   "metadata": {},
   "outputs": [],
   "source": [
    "df"
   ]
  },
  {
   "cell_type": "code",
   "execution_count": 5,
   "id": "55082561",
   "metadata": {},
   "outputs": [
    {
     "data": {
      "application/vnd.jupyter.widget-view+json": {
       "model_id": "8e5d103ea7d74fc6a147efc61b810284",
       "version_major": 2,
       "version_minor": 0
      },
      "text/plain": [
       "interactive(children=(Dropdown(description='ob', options=('Sales', 'Profit'), value='Sales'), Output()), _dom_…"
      ]
     },
     "metadata": {},
     "output_type": "display_data"
    }
   ],
   "source": [
    "list_name = ['Sales', 'Profit']\n",
    "list_1 = ['#FF6600','#FF7300','#FF8000','#FF8C00','#FF9900','#FFA600','#FFB300','#FFBF00','#FFDA1F','#FFCC00']\n",
    "df_Country = df.groupby([\"Country\"]).sum().reset_index()\n",
    "@widgets.interact(ob=list_name)\n",
    "def sales_profit_country(ob='Sales'):\n",
    "    fig = px.treemap(df_Country, path=['Country'], values=ob, color='Country',color_discrete_sequence = list_1,\n",
    "                     maxdepth=2\n",
    "                    )\n",
    "    fig.update_traces(textinfo = \"label+value\",\n",
    "                      textposition='middle center',\n",
    "                      textfont_size=14,\n",
    "                      hovertemplate =\"%{label} <br>%{value}\"\n",
    "                     )\n",
    "#     fig.update_layout(margin = dict(t=50, l=25, r=25, b=25))\n",
    "    fig.update_layout(title=f\"{ob} by Country\",\n",
    "                      title_font_color='orange',\n",
    "                      title_font_size=20,\n",
    "                      title_font_family=\"Times New Roman\",\n",
    "                     )\n",
    "    fig.show()\n"
   ]
  },
  {
   "cell_type": "code",
   "execution_count": null,
   "id": "e198b060",
   "metadata": {},
   "outputs": [],
   "source": []
  }
 ],
 "metadata": {
  "kernelspec": {
   "display_name": "Python 3 (ipykernel)",
   "language": "python",
   "name": "python3"
  },
  "language_info": {
   "codemirror_mode": {
    "name": "ipython",
    "version": 3
   },
   "file_extension": ".py",
   "mimetype": "text/x-python",
   "name": "python",
   "nbconvert_exporter": "python",
   "pygments_lexer": "ipython3",
   "version": "3.9.13"
  }
 },
 "nbformat": 4,
 "nbformat_minor": 5
}
